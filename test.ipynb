{
 "cells": [
  {
   "cell_type": "code",
   "execution_count": 19,
   "metadata": {},
   "outputs": [],
   "source": [
    "import pandas as pd \n",
    "data = pd.read_csv('data/merged_data.csv', sep=';')"
   ]
  },
  {
   "cell_type": "code",
   "execution_count": 17,
   "metadata": {},
   "outputs": [],
   "source": [
    "#COnvert annais as int\n",
    "data['annais'] = data['annais'].astype(int)"
   ]
  },
  {
   "cell_type": "code",
   "execution_count": 43,
   "metadata": {},
   "outputs": [
    {
     "name": "stdout",
     "output_type": "stream",
     "text": [
      "   sexe        preusuel  annais  nombre code                 dpt\n",
      "0     1  _PRENOMS_RARES    2000      78   54  Meurthe-et-Moselle\n",
      "1     1  _PRENOMS_RARES    2001      77   54  Meurthe-et-Moselle\n",
      "2     1  _PRENOMS_RARES    2002     103   54  Meurthe-et-Moselle\n",
      "3     1  _PRENOMS_RARES    2003     113   54  Meurthe-et-Moselle\n",
      "4     1  _PRENOMS_RARES    2004      91   54  Meurthe-et-Moselle\n"
     ]
    }
   ],
   "source": [
    "import pandas as pd\n",
    "import geopandas as gpd\n",
    "\n",
    "# Load your GeoJSON file\n",
    "geojson_path = 'data/departements.geojson'\n",
    "gdf = gpd.read_file(geojson_path)\n",
    "\n",
    "# Extract code and nom properties\n",
    "code_nom_df = gdf[['code', 'nom']]\n",
    "\n",
    "# Load your DataFrame dpt (assuming it has a 'code' column)\n",
    "dpt = pd.read_csv('data/merged_data.csv', sep=';')\n",
    "\n",
    "# Ensure the 'dpt' column has the same data type as 'code' column\n",
    "dpt['dpt'] = dpt['dpt'].astype(str)  \n",
    "\n",
    "# Join the DataFrame dpt with the code_nom_df\n",
    "dpt_with_nom = dpt.merge(code_nom_df, left_on='dpt', right_on='code', how='left')\n",
    "\n",
    "# Replace dpt information with name\n",
    "dpt_with_nom.drop(columns=['dpt'], inplace=True)  # Drop the existing 'dpt' column\n",
    "dpt_with_nom.rename(columns={'nom': 'dpt'}, inplace=True)  # Rename the 'nom' column to 'dpt'\n",
    "\n",
    "# Now your DataFrame dpt_with_nom should have the replaced information\n",
    "print(dpt_with_nom.head())\n"
   ]
  },
  {
   "cell_type": "code",
   "execution_count": 44,
   "metadata": {},
   "outputs": [],
   "source": [
    "# filter data using preusuel == Cammille \n",
    "data = data[data['preusuel'] == 'CAMILLE']"
   ]
  },
  {
   "cell_type": "code",
   "execution_count": 39,
   "metadata": {},
   "outputs": [
    {
     "name": "stdout",
     "output_type": "stream",
     "text": [
      "Camille represents 100.00% of all births in France.\n"
     ]
    }
   ],
   "source": [
    "# Calculate the percentage of Camille globally\n",
    "total_births = data['nombre'].sum()\n",
    "camille_births_by_department = data.groupby('name')['nombre'].sum()\n",
    "camille_percentage = camille_births / total_births * 100\n",
    "print(f\"Camille represents {camille_percentage:.2f}% of all births in France.\")"
   ]
  },
  {
   "cell_type": "code",
   "execution_count": 45,
   "metadata": {},
   "outputs": [],
   "source": [
    "camille_births_by_department =  data.groupby('dpt')['nombre'].sum()\n"
   ]
  },
  {
   "cell_type": "code",
   "execution_count": 46,
   "metadata": {},
   "outputs": [
    {
     "data": {
      "text/plain": [
       "dpt\n",
       "1      539\n",
       "2      905\n",
       "3      572\n",
       "4       98\n",
       "5      166\n",
       "      ... \n",
       "91    1561\n",
       "92    3314\n",
       "93    1012\n",
       "94    1709\n",
       "95    1655\n",
       "Name: nombre, Length: 95, dtype: int64"
      ]
     },
     "execution_count": 46,
     "metadata": {},
     "output_type": "execute_result"
    }
   ],
   "source": [
    "camille_births_by_department"
   ]
  }
 ],
 "metadata": {
  "kernelspec": {
   "display_name": "birth_app_env",
   "language": "python",
   "name": "python3"
  },
  "language_info": {
   "codemirror_mode": {
    "name": "ipython",
    "version": 3
   },
   "file_extension": ".py",
   "mimetype": "text/x-python",
   "name": "python",
   "nbconvert_exporter": "python",
   "pygments_lexer": "ipython3",
   "version": "3.12.3"
  }
 },
 "nbformat": 4,
 "nbformat_minor": 2
}
